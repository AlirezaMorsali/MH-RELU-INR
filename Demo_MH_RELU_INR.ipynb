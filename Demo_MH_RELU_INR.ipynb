{
  "nbformat": 4,
  "nbformat_minor": 0,
  "metadata": {
    "colab": {
      "name": "Demo-MH-RELU-INR.ipynb",
      "provenance": [],
      "collapsed_sections": []
    },
    "kernelspec": {
      "name": "python3",
      "display_name": "Python 3"
    },
    "language_info": {
      "name": "python"
    },
    "accelerator": "GPU"
  },
  "cells": [
    {
      "cell_type": "code",
      "source": [
        "from IPython.display import clear_output"
      ],
      "metadata": {
        "id": "_i_LBBK1lmar"
      },
      "execution_count": 2,
      "outputs": []
    },
    {
      "cell_type": "code",
      "source": [
        "!git clone https://github.com/AlirezaMorsali/MH-RELU-INR.git"
      ],
      "metadata": {
        "id": "OM8oeS2akwiG"
      },
      "execution_count": null,
      "outputs": []
    },
    {
      "cell_type": "code",
      "source": [
        "import os\n",
        "\n",
        "os.chdir(\"/content/MH-RELU-INR\")"
      ],
      "metadata": {
        "id": "_V9x3Nv7k-Oa"
      },
      "execution_count": 4,
      "outputs": []
    },
    {
      "cell_type": "markdown",
      "source": [
        "## Comparison experiments"
      ],
      "metadata": {
        "id": "7EHCQQjdiZtR"
      }
    },
    {
      "cell_type": "code",
      "source": [
        "!python run_comparison_experiments.py -i pics/sample5.jpg \\\n",
        "                                      -nh 64 \\\n",
        "                                      -bh 64 \\\n",
        "                                      -ba 256 \\\n",
        "                                      -ub true"
      ],
      "metadata": {
        "id": "4r6j1jhqmT80"
      },
      "execution_count": null,
      "outputs": []
    },
    {
      "cell_type": "markdown",
      "source": [
        "## Generalization experiments"
      ],
      "metadata": {
        "id": "VI4YkQMniWNB"
      }
    },
    {
      "cell_type": "code",
      "source": [
        "!python run_generalization_experiments.py -i pics/sample3.jpg \\\n",
        "                                          -bh 256 \\\n",
        "                                          -ba 32 \\\n",
        "                                          -ub false"
      ],
      "metadata": {
        "id": "05cC19rtIUL2"
      },
      "execution_count": null,
      "outputs": []
    },
    {
      "cell_type": "markdown",
      "source": [
        "## Spectral bias experiments"
      ],
      "metadata": {
        "id": "y9D139HyiQuk"
      }
    },
    {
      "cell_type": "code",
      "source": [
        "!python run_spectral_bias_experiments.py"
      ],
      "metadata": {
        "id": "aKPO9O5aZ6r4"
      },
      "execution_count": null,
      "outputs": []
    }
  ]
}